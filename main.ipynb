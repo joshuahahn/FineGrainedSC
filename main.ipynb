{
 "cells": [
  {
   "cell_type": "code",
   "execution_count": 1,
   "id": "84af6059",
   "metadata": {},
   "outputs": [],
   "source": [
    "import numpy as np\n",
    "import pandas as pd\n",
    "from matplotlib import pyplot as plt"
   ]
  },
  {
   "cell_type": "code",
   "execution_count": 11,
   "id": "1167bf6f",
   "metadata": {},
   "outputs": [],
   "source": [
    "N = 100 # Number of individuals per sample group\n",
    "k = 20 # Number of sample groups\n",
    "r = 2 # Number of latent variables\n",
    "# Let M be a k x r x N matrix, where M[a,b,c] represents the ath sample group's bth trait for the ath person.\n",
    "M = np.zeros((k,r,N))"
   ]
  },
  {
   "cell_type": "code",
   "execution_count": 27,
   "id": "9991d701",
   "metadata": {},
   "outputs": [],
   "source": [
    "# We must also define distribution functions for each sample group.\n",
    "# For the sake of this experiment, let the two distribution functions be g and h.\n",
    "# g is a normal distribution with mean = g_mean, stdev = g_stdev.\n",
    "# f is a lognormal distribution with mean = f_mean, stdev = f_stdev.\n",
    "# Let the means and stdevs be randomly selected from a linear distribution.\n",
    "# The coefficients are hardcoded\n",
    "\n",
    "g_mean = 1 - 2*np.random.random(k)\n",
    "g_stdev = 0.5*np.random.random(k)\n",
    "f_mean = 2*np.random.random(k)\n",
    "f_stdev = 0.3*np.random.random(k)\n",
    "\n",
    "# Now populate M with the appropriate variables.\n",
    "mean_a = np.zeros(20)\n",
    "mean_b = np.zeros(20)\n",
    "\n",
    "median_a = np.zeros(20)\n",
    "median_b = np.zeros(20)\n",
    "\n",
    "for i in range(k):\n",
    "    M[i,0,:] = np.random.normal(g_mean[i], g_stdev[i], N)\n",
    "    M[i,1,:] = np.random.lognormal(f_mean[i], f_stdev[i], N)\n",
    "    mean_a[i] = np.mean(M[i,0,:])\n",
    "    mean_b[i] = np.mean(M[i,1,:])\n",
    "    median_a[i] = np.median(M[i,0,:])\n",
    "    median_b[i] = np.median(M[i,1,:])"
   ]
  },
  {
   "cell_type": "code",
   "execution_count": 30,
   "id": "371edab5",
   "metadata": {},
   "outputs": [
    {
     "name": "stdout",
     "output_type": "stream",
     "text": [
      "[0.97642537 1.71053237 1.24477939 0.74323239 0.68418061 0.7688688\n",
      " 1.06807197 1.80410816 1.08760073 0.86680508]\n"
     ]
    }
   ],
   "source": [
    "# Now, we must define a mapping of the latent variables (x,y) to a single value, w.\n",
    "# Let us hard-code this mapping as a linear combination of x and y.\n",
    "# Also define M_prime, a k x N matrix where M[a,b] represents the ath sample group's bth individual's value.\n",
    "\n",
    "coef_x = 0.8\n",
    "coef_y = 0.2\n",
    "\n",
    "M_prime = np.zeros((k,N))\n",
    "for i in range(k):\n",
    "    for j in range(N):\n",
    "        M_prime[i,j] = coef_x * M[i,0,j] + coef_y * M[i,1,j]"
   ]
  },
  {
   "cell_type": "code",
   "execution_count": 34,
   "id": "3da01e33",
   "metadata": {},
   "outputs": [
    {
     "data": {
      "text/plain": [
       "<matplotlib.collections.PathCollection at 0x7fa296eaed30>"
      ]
     },
     "execution_count": 34,
     "metadata": {},
     "output_type": "execute_result"
    },
    {
     "data": {
      "image/png": "[encoded data removed]",
      "text/plain": [
       "<Figure size 432x288 with 1 Axes>"
      ]
     },
     "metadata": {
      "needs_background": "light"
     },
     "output_type": "display_data"
    }
   ],
   "source": [
    "# Let us first verify that this matrix is low rank. \n",
    "\n",
    "U, S, V = np.linalg.svd(M_prime)\n",
    "X = np.arange(20)\n",
    "plt.title(\"Eigenvalues of M*, sorted largest to smallest\")\n",
    "plt.xlabel(\"Eigenvalue number\")\n",
    "plt.ylabel(\"Value\")\n",
    "plt.scatter(X,S)"
   ]
  }
 ],
 "metadata": {
  "kernelspec": {
   "display_name": "venv",
   "language": "python",
   "name": "venv"
  },
  "language_info": {
   "codemirror_mode": {
    "name": "ipython",
    "version": 3
   },
   "file_extension": ".py",
   "mimetype": "text/x-python",
   "name": "python",
   "nbconvert_exporter": "python",
   "pygments_lexer": "ipython3",
   "version": "3.8.8"
  }
 },
 "nbformat": 4,
 "nbformat_minor": 5
}
