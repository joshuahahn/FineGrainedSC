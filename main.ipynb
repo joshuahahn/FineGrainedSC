{
 "cells": [
  {
   "cell_type": "code",
   "execution_count": 1,
   "id": "e8ba8936",
   "metadata": {},
   "outputs": [],
   "source": [
    "import numpy as np\n",
    "import pandas as pd\n",
    "from matplotlib import pyplot as plt"
   ]
  },
  {
   "cell_type": "code",
   "execution_count": 11,
   "id": "79922297",
   "metadata": {},
   "outputs": [],
   "source": [
    "N = 100 # Number of individuals per sample group\n",
    "k = 20 # Number of sample groups\n",
    "r = 2 # Number of latent variables\n",
    "# Let M be a k x r x N matrix, where M[a,b,c] represents the ath sample group's bth trait for the ath person.\n",
    "M = np.zeros((k,r,N))"
   ]
  },
  {
   "cell_type": "code",
   "execution_count": 27,
   "id": "393180a7",
   "metadata": {},
   "outputs": [],
   "source": [
    "# We must also define distribution functions for each sample group.\n",
    "# For the sake of this experiment, let the two distribution functions be g and h.\n",
    "# g is a normal distribution with mean = g_mean, stdev = g_stdev.\n",
    "# f is a lognormal distribution with mean = f_mean, stdev = f_stdev.\n",
    "# Let the means and stdevs be randomly selected from a linear distribution.\n",
    "# The coefficients are hardcoded\n",
    "\n",
    "g_mean = 1 - 2*np.random.random(k)\n",
    "g_stdev = 0.5*np.random.random(k)\n",
    "f_mean = 2*np.random.random(k)\n",
    "f_stdev = 0.3*np.random.random(k)\n",
    "\n",
    "# Now populate M with the appropriate variables.\n",
    "mean_a = np.zeros(20)\n",
    "mean_b = np.zeros(20)\n",
    "\n",
    "median_a = np.zeros(20)\n",
    "median_b = np.zeros(20)\n",
    "\n",
    "for i in range(k):\n",
    "    M[i,0,:] = np.random.normal(g_mean[i], g_stdev[i], N)\n",
    "    M[i,1,:] = np.random.lognormal(f_mean[i], f_stdev[i], N)\n",
    "    mean_a[i] = np.mean(M[i,0,:])\n",
    "    mean_b[i] = np.mean(M[i,1,:])\n",
    "    median_a[i] = np.median(M[i,0,:])\n",
    "    median_b[i] = np.median(M[i,1,:])"
   ]
  },
  {
   "cell_type": "code",
   "execution_count": null,
   "id": "fdefd747",
   "metadata": {},
   "outputs": [],
   "source": []
  }
 ],
 "metadata": {
  "kernelspec": {
   "display_name": "venv",
   "language": "python",
   "name": "venv"
  },
  "language_info": {
   "codemirror_mode": {
    "name": "ipython",
    "version": 3
   },
   "file_extension": ".py",
   "mimetype": "text/x-python",
   "name": "python",
   "nbconvert_exporter": "python",
   "pygments_lexer": "ipython3",
   "version": "3.8.8"
  }
 },
 "nbformat": 4,
 "nbformat_minor": 5
}
