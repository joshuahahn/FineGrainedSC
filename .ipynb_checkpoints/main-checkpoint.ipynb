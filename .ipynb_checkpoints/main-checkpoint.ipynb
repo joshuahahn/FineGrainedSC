{
 "cells": [
  {
   "cell_type": "markdown",
   "id": "d205e1ac",
   "metadata": {},
   "source": [
    "## Imports"
   ]
  },
  {
   "cell_type": "code",
   "execution_count": 1,
   "id": "84af6059",
   "metadata": {},
   "outputs": [],
   "source": [
    "import numpy as np\n",
    "import pandas as pd\n",
    "from matplotlib import pyplot as plt"
   ]
  },
  {
   "cell_type": "markdown",
   "id": "0b9bf5d1",
   "metadata": {},
   "source": [
    "## Parameters"
   ]
  },
  {
   "cell_type": "code",
   "execution_count": 2,
   "id": "1167bf6f",
   "metadata": {},
   "outputs": [],
   "source": [
    "N = 100 # Number of individuals per sample group\n",
    "k = 20 # Number of sample groups\n",
    "r = 2 # Number of latent variables\n",
    "# Let M be a k x r x N matrix, where M[a,b,c] represents the ath sample group's bth trait for the ath person.\n",
    "M = np.zeros((k,r,N))"
   ]
  },
  {
   "cell_type": "markdown",
   "id": "88ffe5e5",
   "metadata": {},
   "source": [
    "## Data Generation"
   ]
  },
  {
   "cell_type": "code",
   "execution_count": 3,
   "id": "9991d701",
   "metadata": {},
   "outputs": [],
   "source": [
    "# We must also define distribution functions for each sample group.\n",
    "# For the sake of this experiment, let the two distribution functions be g and h.\n",
    "# g is a normal distribution with mean = g_mean, stdev = g_stdev.\n",
    "# f is a lognormal distribution with mean = f_mean, stdev = f_stdev.\n",
    "# Let the means and stdevs be randomly selected from a linear distribution.\n",
    "# The coefficients are hardcoded\n",
    "\n",
    "g_mean = 1 - 2*np.random.random(k)\n",
    "g_stdev = 0.5*np.random.random(k)\n",
    "f_mean = 2*np.random.random(k)\n",
    "f_stdev = 0.3*np.random.random(k)\n",
    "\n",
    "# Now populate M with the appropriate variables.\n",
    "mean_a = np.zeros(20)\n",
    "mean_b = np.zeros(20)\n",
    "\n",
    "median_a = np.zeros(20)\n",
    "median_b = np.zeros(20)\n",
    "\n",
    "for i in range(k):\n",
    "    M[i,0,:] = np.random.normal(g_mean[i], g_stdev[i], N)\n",
    "    M[i,1,:] = np.random.lognormal(f_mean[i], f_stdev[i], N)\n",
    "    mean_a[i] = np.mean(M[i,0,:])\n",
    "    mean_b[i] = np.mean(M[i,1,:])\n",
    "    median_a[i] = np.median(M[i,0,:])\n",
    "    median_b[i] = np.median(M[i,1,:])"
   ]
  },
  {
   "cell_type": "code",
   "execution_count": 4,
   "id": "a8c51afd",
   "metadata": {},
   "outputs": [],
   "source": [
    "# We define a mapping of the latent variables (x,y) to a single value, w. \n",
    "# This is hard-coded for now, but these parameters can easily be changed by modifying this funciton.\n",
    "# We also set the default parameter \"z\" to be 0. This is for the intervention, which will add an\n",
    "# additional parameter 'z' to the individuals. \n",
    "# Note that f(x,y,0) = f(x,y).\n",
    "def calculateW(x,y,z=0):\n",
    "    coef_x = 0.8\n",
    "    coef_y = 0.2\n",
    "    coef_z = 0.5\n",
    "    return coef_x * x + coef_y + y + coef_z * z"
   ]
  },
  {
   "cell_type": "code",
   "execution_count": 5,
   "id": "371edab5",
   "metadata": {},
   "outputs": [],
   "source": [
    "# Now, we must define a mapping of the latent variables (x,y) to a single value, w.\n",
    "# Let us hard-code this mapping as a linear combination of x and y.\n",
    "# Also define M_prime, a k x N matrix where M[a,b] represents the ath sample group's bth individual's value.\n",
    "\n",
    "M_prime = np.zeros((k,N))\n",
    "for i in range(k):\n",
    "    for j in range(N):\n",
    "        M_prime[i,j] = calculateW(M[i,0,j], M[i,1,j])"
   ]
  },
  {
   "cell_type": "code",
   "execution_count": 7,
   "id": "3da01e33",
   "metadata": {},
   "outputs": [
    {
     "data": {
      "image/png": "[encoded data removed]",
      "text/plain": [
       "<Figure size 432x288 with 1 Axes>"
      ]
     },
     "metadata": {
      "needs_background": "light"
     },
     "output_type": "display_data"
    }
   ],
   "source": [
    "# Let us first verify that this matrix is low rank. \n",
    "\n",
    "U, S, V = np.linalg.svd(M_prime)\n",
    "X = np.arange(20)\n",
    "plt.title(\"Eigenvalues of M*, sorted largest to smallest\")\n",
    "plt.xlabel(\"Eigenvalue number\")\n",
    "plt.ylabel(\"Value\")\n",
    "plt.scatter(X,S)\n",
    "plt.grid()\n",
    "plt.show()"
   ]
  },
  {
   "cell_type": "markdown",
   "id": "52d9f4cb",
   "metadata": {},
   "source": [
    "## Intervention & Time increment"
   ]
  },
  {
   "cell_type": "code",
   "execution_count": 8,
   "id": "2f1b97e6",
   "metadata": {},
   "outputs": [],
   "source": [
    "# Now we define a new matrix, M2, such that M2 represents the state of the individuals\n",
    "# after an intervention. We assume that there is no spillover, i.e. M[1:,:] is \n",
    "# mostly unchanged, which will be represented by a small addition of noise.\n",
    "# On the other hand, M[0,:] will now be redefined as values for f(x,y,z), with\n",
    "# newly generated values for z representing the intervention.\n",
    "\n",
    "\n",
    "# The intervention variables will be sampled from a Gaussian (arbitrary) with mean = -1, stddev = 0.2\n",
    "intervention_mean = -1\n",
    "intervention_stdev = 0.2\n",
    "intervention = np.random.normal(intervention_mean, intervention_stdev, N)\n",
    "\n",
    "# Define new matrix M2\n",
    "M2 = np.zeros((k,N))\n",
    "\n",
    "# First row is target (WLOG), and we set its value appropriately.\n",
    "for idx in range(N):\n",
    "    M2[0,idx] = calculateW(M[0,0,idx],M[0,1,idx],intervention[idx])\n",
    "\n",
    "# Copy over rows from M_prime for 1 <= idx <= N, and add noise.\n",
    "# Gaussian for this noise has mean = 0, stddev = 0.05.\n",
    "for idx in range(1,k):\n",
    "    M2[idx,:] = M_prime[idx,:] + np.random.normal(0,0.05,N)"
   ]
  },
  {
   "cell_type": "markdown",
   "id": "b1faa7fc",
   "metadata": {},
   "source": [
    "## Visualize Data"
   ]
  },
  {
   "cell_type": "code",
   "execution_count": null,
   "id": "7ae685fc",
   "metadata": {},
   "outputs": [],
   "source": []
  }
 ],
 "metadata": {
  "kernelspec": {
   "display_name": "venv",
   "language": "python",
   "name": "venv"
  },
  "language_info": {
   "codemirror_mode": {
    "name": "ipython",
    "version": 3
   },
   "file_extension": ".py",
   "mimetype": "text/x-python",
   "name": "python",
   "nbconvert_exporter": "python",
   "pygments_lexer": "ipython3",
   "version": "3.8.8"
  }
 },
 "nbformat": 4,
 "nbformat_minor": 5
}
